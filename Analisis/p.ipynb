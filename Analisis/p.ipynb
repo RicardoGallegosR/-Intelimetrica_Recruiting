{
 "cells": [
  {
   "attachments": {},
   "cell_type": "markdown",
   "metadata": {},
   "source": [
    "# Importacion de Librerias básicas\n",
    "\n",
    "Con estas librerias se puede hacer un rápido análisis de datos previo a subirlos a la BDD, donde se puede hacer más rápido una limpieza de datos, revisar validaciones y realizar gráficos mamalones :D\n",
    "\n",
    "El resto de codigo solo es personalizacion "
   ]
  },
  {
   "cell_type": "code",
   "execution_count": 41,
   "metadata": {},
   "outputs": [],
   "source": [
    "import seaborn as sns\n",
    "import matplotlib.pyplot as plt\n",
    "import pandas as pd\n",
    "pd.options.display.max_columns = None\n",
    "\n",
    "\n",
    "sns.set_theme(style=\"whitegrid\")\n",
    "sns.set_style(\"ticks\", {\"font.family\": \"Times New Roman\"})\n",
    "\n",
    "colores = plt.cm.tab20.colors\n",
    "font = {'family': 'Times New Roman', 'size': 14, 'weight': 'normal'}\n",
    "plt.rcParams['font.family'] = font['family']\n",
    "plt.rcParams['font.size'] = font['size']\n",
    "plt.rcParams['font.weight'] = font['weight']"
   ]
  },
  {
   "attachments": {},
   "cell_type": "markdown",
   "metadata": {},
   "source": [
    "Cargamos el CSV"
   ]
  },
  {
   "cell_type": "code",
   "execution_count": 42,
   "metadata": {},
   "outputs": [
    {
     "data": {
      "text/html": [
       "<div>\n",
       "<style scoped>\n",
       "    .dataframe tbody tr th:only-of-type {\n",
       "        vertical-align: middle;\n",
       "    }\n",
       "\n",
       "    .dataframe tbody tr th {\n",
       "        vertical-align: top;\n",
       "    }\n",
       "\n",
       "    .dataframe thead th {\n",
       "        text-align: right;\n",
       "    }\n",
       "</style>\n",
       "<table border=\"1\" class=\"dataframe\">\n",
       "  <thead>\n",
       "    <tr style=\"text-align: right;\">\n",
       "      <th></th>\n",
       "      <th>id</th>\n",
       "      <th>rating</th>\n",
       "      <th>name</th>\n",
       "      <th>site</th>\n",
       "      <th>email</th>\n",
       "      <th>phone</th>\n",
       "      <th>street</th>\n",
       "      <th>city</th>\n",
       "      <th>state</th>\n",
       "      <th>lat</th>\n",
       "      <th>lng</th>\n",
       "    </tr>\n",
       "  </thead>\n",
       "  <tbody>\n",
       "    <tr>\n",
       "      <th>0</th>\n",
       "      <td>851f799f-0852-439e-b9b2-df92c43e7672</td>\n",
       "      <td>1</td>\n",
       "      <td>Barajas, Bahena and Kano</td>\n",
       "      <td>https://federico.com</td>\n",
       "      <td>Anita_Mata71@hotmail.com</td>\n",
       "      <td>534 814 204</td>\n",
       "      <td>82247 Mariano Entrada</td>\n",
       "      <td>Mérida Alfredotown</td>\n",
       "      <td>Durango</td>\n",
       "      <td>19.440057</td>\n",
       "      <td>-99.127047</td>\n",
       "    </tr>\n",
       "  </tbody>\n",
       "</table>\n",
       "</div>"
      ],
      "text/plain": [
       "                                     id  rating                      name  \\\n",
       "0  851f799f-0852-439e-b9b2-df92c43e7672       1  Barajas, Bahena and Kano   \n",
       "\n",
       "                   site                     email        phone  \\\n",
       "0  https://federico.com  Anita_Mata71@hotmail.com  534 814 204   \n",
       "\n",
       "                  street                city    state        lat        lng  \n",
       "0  82247 Mariano Entrada  Mérida Alfredotown  Durango  19.440057 -99.127047  "
      ]
     },
     "execution_count": 42,
     "metadata": {},
     "output_type": "execute_result"
    }
   ],
   "source": [
    "path = r'D:\\Quiz Monse\\DataSet\\restaurantes.csv'\n",
    "df_original = pd.read_csv(path)\n",
    "df_original.head(1)"
   ]
  },
  {
   "cell_type": "code",
   "execution_count": 43,
   "metadata": {},
   "outputs": [
    {
     "data": {
      "text/plain": [
       "(100, 11)"
      ]
     },
     "execution_count": 43,
     "metadata": {},
     "output_type": "execute_result"
    }
   ],
   "source": [
    "df = df_original.copy() # Copia de reslpaldo\n",
    "df.shape"
   ]
  },
  {
   "attachments": {},
   "cell_type": "markdown",
   "metadata": {},
   "source": [
    "La bdd tiene más de 30 registros sufieciente para que tenga relevancia estadistica conforme al **Teorema del Límite Central (TLC)**\n"
   ]
  },
  {
   "attachments": {},
   "cell_type": "markdown",
   "metadata": {},
   "source": [
    "Analizamos el tamaño de los string para crear la bdd"
   ]
  },
  {
   "cell_type": "code",
   "execution_count": 44,
   "metadata": {},
   "outputs": [],
   "source": [
    "def CaracteresContador (df:pd.DataFrame)->None:\n",
    "    str_columns = df.select_dtypes(include=['object']).columns\n",
    "    max_lengths = {}\n",
    "    min_lengths = {}\n",
    "\n",
    "    for col in str_columns:\n",
    "        lengths = df[col].str.len()\n",
    "        max_lengths[col] = lengths.max()\n",
    "        min_lengths[col] = lengths.min()\n",
    "    print(f\"Longitudes máximas: {max_lengths}\")\n",
    "    print(f\"Longitudes mínimas: {min_lengths}\")"
   ]
  },
  {
   "cell_type": "code",
   "execution_count": 45,
   "metadata": {},
   "outputs": [
    {
     "name": "stdout",
     "output_type": "stream",
     "text": [
      "Longitudes máximas: {'id': 36, 'name': 32, 'site': 29, 'email': 38, 'phone': 12, 'street': 27, 'city': 36, 'state': 21}\n",
      "Longitudes mínimas: {'id': 36, 'name': 10, 'site': 15, 'email': 17, 'phone': 9, 'street': 15, 'city': 8, 'state': 6}\n"
     ]
    }
   ],
   "source": [
    "CaracteresContador (df)"
   ]
  },
  {
   "attachments": {},
   "cell_type": "markdown",
   "metadata": {},
   "source": [
    "podemos llegar a las concluir que \n",
    "- *id* es un rowguid\n",
    "- *name* podemos agregar 40 de longitud máxima, ya que damos un margen de referencia para posibles nombres que sobrepasen el valor máximo\n",
    "- *site* podemos agregar 40 de longitud máxima\n",
    "- *email* podemos agregar 45 de longitud máxima\n",
    "- *street* podemos agregar 35 de longitud máxima\n",
    "- *city* podemos agregar 50 de longitud máxima\n",
    "- *state* podemos agregar 30 de longitud máxima"
   ]
  },
  {
   "attachments": {},
   "cell_type": "markdown",
   "metadata": {},
   "source": [
    "Para phone vamos a realizar una limpieza de datos"
   ]
  },
  {
   "cell_type": "code",
   "execution_count": 46,
   "metadata": {},
   "outputs": [
    {
     "name": "stdout",
     "output_type": "stream",
     "text": [
      "Longitudes máximas: {'id': 36, 'name': 32, 'site': 29, 'email': 38, 'phone': 10, 'street': 27, 'city': 36, 'state': 21}\n",
      "Longitudes mínimas: {'id': 36, 'name': 10, 'site': 15, 'email': 17, 'phone': 9, 'street': 15, 'city': 8, 'state': 6}\n"
     ]
    }
   ],
   "source": [
    "df['phone'] = df['phone'].str.replace(r'\\D', '', regex=True)\n",
    "CaracteresContador (df)"
   ]
  },
  {
   "cell_type": "code",
   "execution_count": 47,
   "metadata": {},
   "outputs": [
    {
     "name": "stdout",
     "output_type": "stream",
     "text": [
      "Para phone = 9, tenemos 71 resultados\n",
      "Para phone = 10, tenemos 29 resultados\n"
     ]
    }
   ],
   "source": [
    "print(f'Para phone = 9, tenemos {df[df[\"phone\"].apply(lambda x: len(x) == 9)].shape[0]} resultados')\n",
    "print(f'Para phone = 10, tenemos {df[df[\"phone\"].apply(lambda x: len(x) == 10)].shape[0]} resultados')\n"
   ]
  },
  {
   "cell_type": "code",
   "execution_count": 48,
   "metadata": {},
   "outputs": [
    {
     "data": {
      "text/html": [
       "<div>\n",
       "<style scoped>\n",
       "    .dataframe tbody tr th:only-of-type {\n",
       "        vertical-align: middle;\n",
       "    }\n",
       "\n",
       "    .dataframe tbody tr th {\n",
       "        vertical-align: top;\n",
       "    }\n",
       "\n",
       "    .dataframe thead th {\n",
       "        text-align: right;\n",
       "    }\n",
       "</style>\n",
       "<table border=\"1\" class=\"dataframe\">\n",
       "  <thead>\n",
       "    <tr style=\"text-align: right;\">\n",
       "      <th></th>\n",
       "      <th>phone</th>\n",
       "      <th>state</th>\n",
       "    </tr>\n",
       "  </thead>\n",
       "  <tbody>\n",
       "    <tr>\n",
       "      <th>0</th>\n",
       "      <td>534814204</td>\n",
       "      <td>Durango</td>\n",
       "    </tr>\n",
       "    <tr>\n",
       "      <th>1</th>\n",
       "      <td>570746998</td>\n",
       "      <td>Hidalgo</td>\n",
       "    </tr>\n",
       "    <tr>\n",
       "      <th>4</th>\n",
       "      <td>559867074</td>\n",
       "      <td>Colima</td>\n",
       "    </tr>\n",
       "    <tr>\n",
       "      <th>5</th>\n",
       "      <td>571744718</td>\n",
       "      <td>Michoacan</td>\n",
       "    </tr>\n",
       "    <tr>\n",
       "      <th>6</th>\n",
       "      <td>584212054</td>\n",
       "      <td>San Luis Potosí</td>\n",
       "    </tr>\n",
       "    <tr>\n",
       "      <th>...</th>\n",
       "      <td>...</td>\n",
       "      <td>...</td>\n",
       "    </tr>\n",
       "    <tr>\n",
       "      <th>94</th>\n",
       "      <td>552972577</td>\n",
       "      <td>Baja California Sur</td>\n",
       "    </tr>\n",
       "    <tr>\n",
       "      <th>95</th>\n",
       "      <td>520411112</td>\n",
       "      <td>Chihuahua</td>\n",
       "    </tr>\n",
       "    <tr>\n",
       "      <th>97</th>\n",
       "      <td>500281343</td>\n",
       "      <td>Tamaulipas</td>\n",
       "    </tr>\n",
       "    <tr>\n",
       "      <th>98</th>\n",
       "      <td>590666046</td>\n",
       "      <td>Michoacan</td>\n",
       "    </tr>\n",
       "    <tr>\n",
       "      <th>99</th>\n",
       "      <td>537531201</td>\n",
       "      <td>Baja California Norte</td>\n",
       "    </tr>\n",
       "  </tbody>\n",
       "</table>\n",
       "<p>71 rows × 2 columns</p>\n",
       "</div>"
      ],
      "text/plain": [
       "        phone                  state\n",
       "0   534814204                Durango\n",
       "1   570746998                Hidalgo\n",
       "4   559867074                 Colima\n",
       "5   571744718              Michoacan\n",
       "6   584212054        San Luis Potosí\n",
       "..        ...                    ...\n",
       "94  552972577    Baja California Sur\n",
       "95  520411112              Chihuahua\n",
       "97  500281343             Tamaulipas\n",
       "98  590666046              Michoacan\n",
       "99  537531201  Baja California Norte\n",
       "\n",
       "[71 rows x 2 columns]"
      ]
     },
     "execution_count": 48,
     "metadata": {},
     "output_type": "execute_result"
    }
   ],
   "source": [
    "df[df[\"phone\"].apply(lambda x: len(x) == 9)][[\"phone\",\"state\"]]"
   ]
  },
  {
   "attachments": {},
   "cell_type": "markdown",
   "metadata": {},
   "source": [
    "Por la normativa, los números telefónicos están regidos por el Instituto Federal de Telecomunicaciones (IFT). A partir del 3 de agosto de 2019, [referencia][1]. \n",
    "\n",
    "Los números telefónicos deben ser de 10 dígitos. Dado que esto es un quiz, asumiré que es parte de la limpieza de datos, por lo tanto, se agregará un '5' al inicio de cada número. Además, estos números no coinciden con las claves lada de los estados, pero en producción contemplaría la opción de eliminarlos, no insertalos o corregirlos dependiendo de las instrucciones del líder del proyecto, ya que no cumplen con la normativa, a pesar de ser la mayoría de la base de datos  ([referencia][2] columna NIR) >:( \n",
    "\n",
    "\n",
    "[1]:(https://www.ift.org.mx/comunicacion-y-medios/comunicados-ift/es/partir-del-3-de-agosto-mexico-tendra-una-nueva-forma-de-marcacion-telefonica-comunicado-342019-16-de#:~:text=Para%20las%20llamadas%20a%20n%C3%BAmeros,se%20eliminar%C3%A1%20el%20prefijo%2001.)\n",
    "[2]:(https://sns.ift.org.mx:8081/sns-frontend/planes-numeracion/descarga-publica.xhtml)"
   ]
  },
  {
   "cell_type": "code",
   "execution_count": 49,
   "metadata": {},
   "outputs": [
    {
     "name": "stdout",
     "output_type": "stream",
     "text": [
      "Longitudes máximas: {'id': 36, 'name': 32, 'site': 29, 'email': 38, 'phone': 10, 'street': 27, 'city': 36, 'state': 21}\n",
      "Longitudes mínimas: {'id': 36, 'name': 10, 'site': 15, 'email': 17, 'phone': 10, 'street': 15, 'city': 8, 'state': 6}\n"
     ]
    }
   ],
   "source": [
    "df.loc[df[\"phone\"].apply(lambda x: len(x) == 9), \"phone\"] = \"5\" + df[\"phone\"]\n",
    "CaracteresContador (df)"
   ]
  },
  {
   "attachments": {},
   "cell_type": "markdown",
   "metadata": {},
   "source": [
    "## Validacion de email"
   ]
  },
  {
   "cell_type": "code",
   "execution_count": 50,
   "metadata": {},
   "outputs": [
    {
     "name": "stdout",
     "output_type": "stream",
     "text": [
      "Correos electrónicos inválidos:\n",
      "Empty DataFrame\n",
      "Columns: [id, rating, name, site, email, phone, street, city, state, lat, lng]\n",
      "Index: []\n"
     ]
    }
   ],
   "source": [
    "regex_email = r'^[a-zA-Z0-9._%+-]+@[a-zA-Z0-9.-]+\\.[a-zA-Z]{2,}$'\n",
    "invalid_emails = df[~df[\"email\"].str.match(regex_email, na=False)]\n",
    "\n",
    "print(\"Correos electrónicos inválidos:\")\n",
    "print(invalid_emails)"
   ]
  },
  {
   "attachments": {},
   "cell_type": "markdown",
   "metadata": {},
   "source": [
    "Apesar de que no las detecte hay acentos y espacios por ello vamos a solucionarlo"
   ]
  },
  {
   "cell_type": "code",
   "execution_count": 51,
   "metadata": {},
   "outputs": [],
   "source": [
    "import unidecode\n",
    "\n",
    "def make_url_valid(url):\n",
    "    url = unidecode.unidecode(url)\n",
    "    url = url.replace(' ', '-')\n",
    "    return url\n",
    "\n",
    "df[\"email\"] = df[\"email\"].apply(make_url_valid)"
   ]
  },
  {
   "attachments": {},
   "cell_type": "markdown",
   "metadata": {},
   "source": [
    "Se observa que todos los correos son validos :D "
   ]
  },
  {
   "attachments": {},
   "cell_type": "markdown",
   "metadata": {},
   "source": [
    "## Validar de URL"
   ]
  },
  {
   "cell_type": "code",
   "execution_count": 52,
   "metadata": {},
   "outputs": [
    {
     "name": "stdout",
     "output_type": "stream",
     "text": [
      "URL inválidos: 26\n"
     ]
    },
    {
     "data": {
      "text/html": [
       "<div>\n",
       "<style scoped>\n",
       "    .dataframe tbody tr th:only-of-type {\n",
       "        vertical-align: middle;\n",
       "    }\n",
       "\n",
       "    .dataframe tbody tr th {\n",
       "        vertical-align: top;\n",
       "    }\n",
       "\n",
       "    .dataframe thead th {\n",
       "        text-align: right;\n",
       "    }\n",
       "</style>\n",
       "<table border=\"1\" class=\"dataframe\">\n",
       "  <thead>\n",
       "    <tr style=\"text-align: right;\">\n",
       "      <th></th>\n",
       "      <th>id</th>\n",
       "      <th>rating</th>\n",
       "      <th>name</th>\n",
       "      <th>site</th>\n",
       "      <th>email</th>\n",
       "      <th>phone</th>\n",
       "      <th>street</th>\n",
       "      <th>city</th>\n",
       "      <th>state</th>\n",
       "      <th>lat</th>\n",
       "      <th>lng</th>\n",
       "    </tr>\n",
       "  </thead>\n",
       "  <tbody>\n",
       "    <tr>\n",
       "      <th>4</th>\n",
       "      <td>2b8f5a44-1e8b-44ec-9b25-0edc5b64b7e6</td>\n",
       "      <td>3</td>\n",
       "      <td>Hurtado, Rolón and Segovia</td>\n",
       "      <td>https://elías.org</td>\n",
       "      <td>RosaMara_Figueroa@corpfolder.com</td>\n",
       "      <td>5559867074</td>\n",
       "      <td>039 Susana Polígono</td>\n",
       "      <td>Marco Antonioland</td>\n",
       "      <td>Colima</td>\n",
       "      <td>19.433498</td>\n",
       "      <td>-99.128514</td>\n",
       "    </tr>\n",
       "  </tbody>\n",
       "</table>\n",
       "</div>"
      ],
      "text/plain": [
       "                                     id  rating                        name  \\\n",
       "4  2b8f5a44-1e8b-44ec-9b25-0edc5b64b7e6       3  Hurtado, Rolón and Segovia   \n",
       "\n",
       "                site                             email       phone  \\\n",
       "4  https://elías.org  RosaMara_Figueroa@corpfolder.com  5559867074   \n",
       "\n",
       "                street               city   state        lat        lng  \n",
       "4  039 Susana Polígono  Marco Antonioland  Colima  19.433498 -99.128514  "
      ]
     },
     "execution_count": 52,
     "metadata": {},
     "output_type": "execute_result"
    }
   ],
   "source": [
    "regex_email = r'^(https?:\\/\\/)?([\\da-z.-]+)\\.([a-z.]{2,6})([\\/\\w .-]*)*\\/?$'\n",
    "invalid_emails = df[~df[\"site\"].str.match(regex_email, na=False)]\n",
    "\n",
    "print(f\"URL inválidos: {invalid_emails.shape[0]}\")\n",
    "invalid_emails.head(1)"
   ]
  },
  {
   "cell_type": "code",
   "execution_count": 53,
   "metadata": {},
   "outputs": [
    {
     "name": "stdout",
     "output_type": "stream",
     "text": [
      "URL inválidos: 0\n"
     ]
    }
   ],
   "source": [
    "df[\"site\"] = df[\"site\"].apply(make_url_valid)\n",
    "invalid_emails = df[~df[\"site\"].str.match(regex_email, na=False)]\n",
    "\n",
    "print(f\"URL inválidos: {invalid_emails.shape[0]}\")"
   ]
  },
  {
   "attachments": {},
   "cell_type": "markdown",
   "metadata": {},
   "source": [
    "## Validar Rating"
   ]
  },
  {
   "cell_type": "code",
   "execution_count": 54,
   "metadata": {},
   "outputs": [
    {
     "data": {
      "text/plain": [
       "array([1, 0, 3, 2, 4], dtype=int64)"
      ]
     },
     "execution_count": 54,
     "metadata": {},
     "output_type": "execute_result"
    }
   ],
   "source": [
    "df[\"rating\"].unique()"
   ]
  },
  {
   "attachments": {},
   "cell_type": "markdown",
   "metadata": {},
   "source": [
    "## Validar coordenadas"
   ]
  },
  {
   "cell_type": "code",
   "execution_count": 55,
   "metadata": {},
   "outputs": [
    {
     "data": {
      "text/html": [
       "<div>\n",
       "<style scoped>\n",
       "    .dataframe tbody tr th:only-of-type {\n",
       "        vertical-align: middle;\n",
       "    }\n",
       "\n",
       "    .dataframe tbody tr th {\n",
       "        vertical-align: top;\n",
       "    }\n",
       "\n",
       "    .dataframe thead th {\n",
       "        text-align: right;\n",
       "    }\n",
       "</style>\n",
       "<table border=\"1\" class=\"dataframe\">\n",
       "  <thead>\n",
       "    <tr style=\"text-align: right;\">\n",
       "      <th></th>\n",
       "      <th>id</th>\n",
       "      <th>rating</th>\n",
       "      <th>name</th>\n",
       "      <th>site</th>\n",
       "      <th>email</th>\n",
       "      <th>phone</th>\n",
       "      <th>street</th>\n",
       "      <th>city</th>\n",
       "      <th>state</th>\n",
       "      <th>lat</th>\n",
       "      <th>lng</th>\n",
       "    </tr>\n",
       "  </thead>\n",
       "  <tbody>\n",
       "  </tbody>\n",
       "</table>\n",
       "</div>"
      ],
      "text/plain": [
       "Empty DataFrame\n",
       "Columns: [id, rating, name, site, email, phone, street, city, state, lat, lng]\n",
       "Index: []"
      ]
     },
     "execution_count": 55,
     "metadata": {},
     "output_type": "execute_result"
    }
   ],
   "source": [
    "filtered_df = df[df[['lat', 'lng']].isna().any(axis=1)]\n",
    "filtered_df"
   ]
  },
  {
   "cell_type": "code",
   "execution_count": 56,
   "metadata": {},
   "outputs": [
    {
     "data": {
      "text/html": [
       "<div>\n",
       "<style scoped>\n",
       "    .dataframe tbody tr th:only-of-type {\n",
       "        vertical-align: middle;\n",
       "    }\n",
       "\n",
       "    .dataframe tbody tr th {\n",
       "        vertical-align: top;\n",
       "    }\n",
       "\n",
       "    .dataframe thead th {\n",
       "        text-align: right;\n",
       "    }\n",
       "</style>\n",
       "<table border=\"1\" class=\"dataframe\">\n",
       "  <thead>\n",
       "    <tr style=\"text-align: right;\">\n",
       "      <th></th>\n",
       "      <th>id</th>\n",
       "      <th>rating</th>\n",
       "      <th>name</th>\n",
       "      <th>site</th>\n",
       "      <th>email</th>\n",
       "      <th>phone</th>\n",
       "      <th>street</th>\n",
       "      <th>city</th>\n",
       "      <th>state</th>\n",
       "      <th>lat</th>\n",
       "      <th>lng</th>\n",
       "    </tr>\n",
       "  </thead>\n",
       "  <tbody>\n",
       "    <tr>\n",
       "      <th>0</th>\n",
       "      <td>851f799f-0852-439e-b9b2-df92c43e7672</td>\n",
       "      <td>1</td>\n",
       "      <td>Barajas, Bahena and Kano</td>\n",
       "      <td>https://federico.com</td>\n",
       "      <td>Anita_Mata71@hotmail.com</td>\n",
       "      <td>5534814204</td>\n",
       "      <td>82247 Mariano Entrada</td>\n",
       "      <td>Mérida Alfredotown</td>\n",
       "      <td>Durango</td>\n",
       "      <td>19.440057</td>\n",
       "      <td>-99.127047</td>\n",
       "    </tr>\n",
       "  </tbody>\n",
       "</table>\n",
       "</div>"
      ],
      "text/plain": [
       "                                     id  rating                      name  \\\n",
       "0  851f799f-0852-439e-b9b2-df92c43e7672       1  Barajas, Bahena and Kano   \n",
       "\n",
       "                   site                     email       phone  \\\n",
       "0  https://federico.com  Anita_Mata71@hotmail.com  5534814204   \n",
       "\n",
       "                  street                city    state        lat        lng  \n",
       "0  82247 Mariano Entrada  Mérida Alfredotown  Durango  19.440057 -99.127047  "
      ]
     },
     "execution_count": 56,
     "metadata": {},
     "output_type": "execute_result"
    }
   ],
   "source": [
    "df.head(1)"
   ]
  },
  {
   "attachments": {},
   "cell_type": "markdown",
   "metadata": {},
   "source": [
    "# Query\n",
    "Dado que el DataSet, ya ha sido revisado y validado se procedera a insertarlo en la base de datos, dado que se puede realizar con pandas directamente (esto es muy lento con python y sin el conocimoiento puede dañar la bdd de producción, admirable quien lo haga así), guardarlo en un formato plano como csv, json, txt, entre otros y cargarlo desde la interfaz de la bdd. Prefiero crear un query y controlar la inserción."
   ]
  },
  {
   "attachments": {},
   "cell_type": "markdown",
   "metadata": {},
   "source": [
    "**Nota:** son muy pocos datos (100 filas) no superan el limite de una insersion masiva (1000 filas) no es necesario modificar el limite (permisos de admin) o el codigo (para cualquier usuario)"
   ]
  },
  {
   "cell_type": "code",
   "execution_count": 57,
   "metadata": {},
   "outputs": [
    {
     "data": {
      "text/plain": [
       "Index(['id', 'rating', 'name', 'site', 'email', 'phone', 'street', 'city',\n",
       "       'state', 'lat', 'lng'],\n",
       "      dtype='object')"
      ]
     },
     "execution_count": 57,
     "metadata": {},
     "output_type": "execute_result"
    }
   ],
   "source": [
    "df.columns"
   ]
  },
  {
   "cell_type": "code",
   "execution_count": 58,
   "metadata": {},
   "outputs": [
    {
     "data": {
      "text/plain": [
       "dtype('O')"
      ]
     },
     "execution_count": 58,
     "metadata": {},
     "output_type": "execute_result"
    }
   ],
   "source": [
    "df[\"email\"].dtypes"
   ]
  },
  {
   "cell_type": "code",
   "execution_count": 59,
   "metadata": {},
   "outputs": [
    {
     "name": "stdout",
     "output_type": "stream",
     "text": [
      "\n",
      "DECLARE\n",
      "    @ErrorMessage NVARCHAR(4000),\n",
      "    @ErrorSeverity INT,\n",
      "    @ErrorState INT\n",
      "\n",
      "BEGIN TRY\n",
      "    BEGIN TRANSACTION\n",
      "       INSERT INTO Restaurant.Restaurants (Id, Rating, [Name], WebSite, Email, Phone, Street, City, [State], Lat, Lng)\n",
      "       VALUES \n",
      "\t\t('851f799f-0852-439e-b9b2-df92c43e7672',1,'Barajas, Bahena and Kano','https://federico.com','Anita_Mata71@hotmail.com','5534814204','82247 Mariano Entrada','Mérida Alfredotown','Durango',19.4400570537131,-99.1270470974249),\n",
      "\t\t('4e17896d-a26f-44ae-a8a4-5fbd5cde79b0',0,'Hernández - Lira','http://graciela.com.mx','Brandon_Vigil@hotmail.com','5570746998','93725 Erick Arroyo','Mateofurt','Hidalgo',19.437904276995,-99.1286576775023),\n",
      "\t\t('c0ffd058-e773-47f1-974b-42d41cb555bf',3,'Rendón - Elizondo','https://cristina.mx','Hugo.Casanova49@gmail.com','5866337812','5518 Monserrat Explanada','Chignahuapan María','Sinaloa',19.4360705910348,-99.1297865731994),\n",
      "\t\t('c29082c4-4352-4517-9b4b-c45f86fc1830',2,'Nájera - Chávez','https://pedro.gob.mx','Carlota31@hotmail.com','5532129406','79224 Mariano Travesía','Nezahualcóyotl Timoteo','Coahuila',19.4424869116657,-99.1238332599196),\n",
      "\t\t('2b8f5a44-1e8b-44ec-9b25-0edc5b64b7e6',3,'Hurtado, Rolón and Segovia','https://elias.org','RosaMara_Figueroa@corpfolder.com','5559867074','039 Susana Polígono','Marco Antonioland','Colima',19.433497663015,-99.1285135065721),\n",
      "\t\t('ddb77425-2c3f-435c-8391-021b40010b0d',0,'Serrato Hermanos','https://octavio.org','Yamileth_Lugo28@corpfolder.com','5571744718','14476 Delgadillo Partida','Nevárezfort','Michoacan',19.4347042254875,-99.1263817815393),\n",
      "\t\t('7b845a5f-94d4-4d52-bbb7-838839a180d6',1,'Saiz, Aponte and Muñoz','https://homero.com','Carolina_Merino@nearbpo.com','5584212054','563 Verduzco Vía Pública','Nuevo Laredo Alejandrahaven','San Luis Potosí',19.4414878243213,-99.1274899318585),\n",
      "\t\t('030eaf75-da6e-4748-9727-f2704f831498',2,'Niño - Negrete','https://elizabeth.gob.mx','Luz_Sevilla@gmail.com','5178668409','3041 Gael Torrente','Querétaro Saratown','Oaxaca',19.4416814748901,-99.1265732438097),\n",
      "\t\t('1ce4a7f8-ff21-4450-9107-f4f952f39f99',4,'Kortajarena - Rangel','http://debora.gob.mx','Brandon_Quiros@gmail.com','5560092151','59897 Esquivel Aldea','Monterrey Dulce María','Querétaro',19.440701969313,-99.1260149339613),\n",
      "\t\t('9f98fad3-ecd6-421b-ba8c-2bd63340473d',2,'Macías S.L.','http://miguel.com.mx','Jazmin_Santiago7@yahoo.com','5508272671','1736 Adela Urbanización','Puerto Vallarta Dorotea','Baja California Sur',19.4369257779145,-99.1315607513514),\n",
      "\t\t('38c965f9-74b0-4d8e-9cc2-2e457a1ebb83',3,'Arreola Hermanos','https://alejandra.com.mx','Ximena_Domnquez62@yahoo.com','5531757355','9061 Fernando Puente','Campeche Mercedes','Guanajuato',19.4349888225906,-99.1263073477967),\n",
      "\t\t('4501fb34-eefe-4f63-90c9-a9a1272df71d',0,'Gallardo - Angulo','https://jose-antonio.mx','Brandon34@gmail.com','5191333084','7229 Villarreal Gran Subida','Campeche Daniela','Quintana Roo',19.4341320322948,-99.1326235608364),\n",
      "\t\t('d04fd5aa-4a56-43a6-91c9-35edaaadadc9',0,'Calvillo S.L.','https://martin.info','JuanPablo.Cervntez@nearbpo.com','5501812092','38836 Emilio Partida','Rubénchester','Tabasco',19.4423931664932,-99.126576982844),\n",
      "\t\t('a850ff07-516e-44e4-acd7-26fa0c12f4fc',1,'Palomo - Cardona','http://marco-antonio.org','Lizbeth.Laboy@hotmail.com','5508505560','5588 Leticia Torrente','Tetela de Ocampo Silviafurt','Colima',19.4348698630608,-99.1280895220492),\n",
      "\t\t('7173d827-3308-46d8-9b9e-86306ec64f78',3,'Carreón e Hijos','http://dolores.org','Benjamn.Arenas27@yahoo.com','5572204703','7124 Granado Parcela','Celaya Carlos','Puebla',19.4405543555394,-99.1268034744616),\n",
      "\t\t('d6782cfc-29ef-4241-985b-0a6ff6cf4c64',4,'Munguía S.L.','https://emmanuel.com.mx','Yaretzi_Saldivar28@yahoo.com','5573429070','05203 Martín Lado','León Césarland','Guerrero',19.4388920409004,-99.1303342703873),\n",
      "\t\t('dd56e1e9-bd67-41cd-baac-a8f9f47ad5c8',4,'Fuentes, Porras and Barajas','http://ariadna.com.mx','Jimena25@hotmail.com','5087469378','81414 Luz Ferrocarril','Paolabury','Michoacan',19.439351178762,-99.1330661270515),\n",
      "\t\t('ac3bafbe-ea67-47cb-af99-63d945f71bf5',1,'Ledesma, Vélez and Matías','https://miranda.mx','Amalia27@gmail.com','5593520541','7630 Collado Huerta','Irapuato Carolina','Jalisco',19.442714750418,-99.1272541693695),\n",
      "\t\t('3e26a92c-defb-4475-8c23-450750556fb9',4,'Galarza, Griego and Orozco','https://jose-luis.com.mx','JosEduardo_Narvez@nearbpo.com','5177114746','0785 José Luis Mercado','Tampico-Pánuco Mercedes','Guerrero',19.4353118112828,-99.1309174043316),\n",
      "\t\t('6b7cd221-7859-4ece-8ed6-fd79283f0e65',2,'Hurtado, Armijo and Soto','https://iker.org','Patricio.Alonso52@gmail.com','5234475063','830 Valentín Colonia','La Laguna Ana Maríamouth','Tabasco',19.4334338750765,-99.1304472538227),\n",
      "\t\t('d7888ed4-52f0-4be8-a210-f0d28ce0e565',0,'Paredes - Montero','http://abraham.com.mx','Vanessa_Quinterodelacruz84@hotmail.com','5783052043','237 Regina Jardines','Pilarshire','Nuevo León',19.4392401826759,-99.1331904409434),\n",
      "\t\t('e6c4bf95-dba4-44b5-af90-b0ab7214146e',0,'Zavala - Chavarría','https://ignacio.mx','Jernimo_Armas@nearbpo.com','5588078464','019 Aragón Urbanización','Carrasquillobury','Yucatán',19.4332403037143,-99.1322942363824),\n",
      "\t\t('1d7e6cac-013e-404b-8d93-19d838ef30e1',1,'Padilla, Mata and Posada','https://gabriel.com.mx','Josefina_Cano@corpfolder.com','5554352295','0658 Espino Conjunto','Mérida Emilio','Guerrero',19.4391502709296,-99.1241315374085),\n",
      "\t\t('811fa2fc-f29c-4152-a821-7c2a67ab5d21',4,'Gallegos, Anguiano and Jurado','http://eduardo.com','Carla.Ramn81@corpfolder.com','5572745754','2179 José Plaza','Sofiaville','Durango',19.4340626239805,-99.123802582133),\n",
      "\t\t('6e658154-be6f-409c-9c38-b53cc38c2705',3,'Figueroa e Hijos','http://maria-cristina.org','FernandoJavier.Batista@nearbpo.com','5576091302','166 Gaona Ferrocarril','Tetela de Ocampo Ester','Yucatán',19.4341630436042,-99.1306978434607),\n",
      "\t\t('40424cd9-a4ff-466f-bea9-51cacb2dd2d5',3,'Cruz, Korta hernandez and Yáñez','http://pedro.info','Jorge.Carrion@gmail.com','5551482751','684 Barrientos Monte','Orizaba Nataliahaven','Estado de México',19.4420366147771,-99.1327560682552),\n",
      "\t\t('ed23040e-6d68-4211-b31c-62e2f36d120a',3,'Casanova - Jaramillo','http://brayan.com','Valentina_Gracia59@nearbpo.com','5573342065','220 Ángel Gabriel Solar','Cancún Yaretzi','Durango',19.4338099754932,-99.1293445790167),\n",
      "\t\t('8e086874-60ff-44d5-a327-e4bccf3a90ed',2,'Moya - Cepeda','https://claudia.info','Silvia20@hotmail.com','5592612849','28658 José Antonio Aldea','Guardadoview','Chihuahua',19.4419745943281,-99.1321057228515),\n",
      "\t\t('5675b76e-738a-4f6f-9adc-2a1b708b67fc',1,'Yanes S.A.','http://ruben.info','MaraLuisa_Amador@nearbpo.com','5555572993','358 María Soledad Arrabal','Tlalnepantla Cristobal','Baja California Sur',19.4392354955343,-99.1289326011347),\n",
      "\t\t('c4965d5d-4c08-4806-8cfc-77099379ce4e',1,'Rael, Mota and Cintrón','https://francisco.org','Miguelngel4@corpfolder.com','5511280590','821 Lorena Ramal','Tula Adánville','Chihuahua',19.4415982312132,-99.1263520866613),\n",
      "\t\t('da7c9bad-6036-4a3a-8873-81dfaa585b26',0,'Hinojosa Hermanos','https://erick.mx','XimenaGuadalupe.Mireles@nearbpo.com','5382692003','8772 Marrero Huerta','Zaragozafort','Morelos',19.4371094580814,-99.1292572617558),\n",
      "\t\t('71795f1c-4ca0-4ec7-b925-5b906711329b',3,'Zamudio S.L.','http://cecilia.com.mx','Estela.Quinta80@hotmail.com','5590101852','928 Benavídez Municipio','Terrazasside','Baja California Sur',19.436545609192,-99.1255914573305),\n",
      "\t\t('556091ed-3047-4f07-a2e3-1abbb37ff1bd',4,'Kamat S.L.','http://melissa.mx','Eva88@corpfolder.com','5756043582','4820 Gurule Rambla','León Kimberlyland','Aguascalientes',19.4402502573403,-99.129177464601),\n",
      "\t\t('87b35453-f063-461a-b17b-9173f7f09805',0,'Arevalo - Reséndez','http://esteban.info','Valeria.Espinal@yahoo.com','5560091544','481 Raquel Huerta','Ríoshaven','Guanajuato',19.4362662910558,-99.1329428029646),\n",
      "\t\t('8d567e51-e73c-47b3-ad15-9ca14c32da14',0,'Ñañez S.L.','http://cristobal.mx','Eduardo_Montes75@nearbpo.com','5506416955','705 Gloria Avenida','Armijomouth','Tabasco',19.4348031353559,-99.1248489134273),\n",
      "\t\t('84314586-29fb-420f-95e5-f15fbe7a619c',0,'Mayorga S.L.','https://eva.com.mx','Melissa51@corpfolder.com','5521791308','4152 Karem Mercado','Coatzacoalcos Nicolásstad','Baja California Norte',19.4396650326257,-99.1324215899109),\n",
      "\t\t('1b413a3a-e894-4142-a954-37176f12003b',1,'Báez, Karan and Armijo','https://fernando.info','Alexa.Ortega@yahoo.com','5545520700','08030 Juan Manuel Torrente','Uruapan del Progreso Juan Pabloland','Tabasco',19.4336995689413,-99.1310921118645),\n",
      "\t\t('15c7fea0-89e8-4539-8632-46a619ef4ce9',1,'García e Hijos','http://victor-manuel.gob.mx','JosEmilio31@corpfolder.com','5250478668','3239 Apodaca Parque','Campeche Ramiroborough','Puebla',19.4329125180636,-99.1312079178662),\n",
      "\t\t('073aa6dc-3363-417c-b3f4-eba74fb75de8',3,'Palacios, Moreno and Bustamante','http://bernardo.mx','Luis.Anaya25@corpfolder.com','5581978966','37097 Florencia Senda','Octavioville','Chiapas',19.4345657240534,-99.1324248464642),\n",
      "\t\t('36d43234-edd6-4680-8054-f2f6e4e4ab47',3,'Polanco - Rodríguez','http://paola.gob.mx','Mayte.Camacho@nearbpo.com','5778085952','31916 Daniel Glorieta','Zitacuaro Monserratchester','Sinaloa',19.4345222724234,-99.1268400906496),\n",
      "\t\t('7b97ebd0-6c61-43b1-80c6-bdc88846c727',3,'Aragón, Robles and Echevarría','https://mario.org','MaradeJess32@gmail.com','5558191752','5983 Tapia Lado','Juanaborough','Baja California Sur',19.4369541201093,-99.1300720732733),\n",
      "\t\t('58c0549f-4b2c-43d4-af8d-d4641ffa9f66',4,'Zabaleta S.A.','http://sofia.com','Bernardo.Yebra48@hotmail.com','5538173475','65562 Olivas Rincón','Durango Elizabethchester','Campeche',19.4353102945797,-99.1292043829922),\n",
      "\t\t('5dccd552-2941-485c-a80d-8a769f4df5c5',0,'Pelayo, Puente and Echevarría','https://homero.gob.mx','Eva.Ferrer47@hotmail.com','5568360596','96024 Ana Sofía Polígono','Chetumal Liliafort','Tlaxcala',19.4407029973394,-99.1274806865075),\n",
      "\t\t('6308a2f2-6719-4ff6-818e-4e62f41a5296',4,'Benítez - Carbajal','https://jaime.com.mx','Eva_Faras11@corpfolder.com','5566384264','795 Gaytán Colonia','Nicolásview','Durango',19.4392862624074,-99.1315240351859),\n",
      "\t\t('72cc52c1-7aa5-4098-a391-5a713e2d9781',0,'Lozada, Chávez and Guerrero','https://estefania.mx','Victoria.Valadez@corpfolder.com','5567287108','66998 Tejada Colegio','Isabelbury','Oaxaca',19.4386676858929,-99.1258376904511),\n",
      "\t\t('601c7236-e03c-4ba1-beb5-38fbc09108f9',1,'Mesa e Hijos','http://sofia.org','Julia_Chavarra@nearbpo.com','5565772068','6236 Axel Masía','Francisco Javierland','Baja California Sur',19.4332135495246,-99.1317243400941),\n",
      "\t\t('3e21e0c4-3f89-42fb-8676-8350b95883e2',3,'Muñoz, Armendáriz and Moya','https://abraham.com.mx','Emilio.Kortahernandez@nearbpo.com','5500103302','626 Adriana Ramal','Rochaport','Veracruz',19.4347243681182,-99.124112030466),\n",
      "\t\t('8b8af894-bc42-4664-b08c-6cf4ef28081f',3,'Delgadillo - Escobar','http://cristian.mx','JosLuis.Valds86@yahoo.com','5325988654','73621 Gloria Colegio','Delgadilloshire','Michoacan',19.4349934102413,-99.1317232767496),\n",
      "\t\t('0b9447e8-6253-4337-b9a0-d6573149fde0',1,'Palomino - Vargas','http://abigail.mx','Cecilia_Zabaleta76@nearbpo.com','5566689802','396 Abreu Bloque','Kortajarenaside','Quintana Roo',19.4344720539688,-99.1317786295296),\n",
      "\t\t('cc9c245d-8b02-44c3-868e-90a3149edd5b',2,'Vallejo, Jiménez and Jaimes','https://alfredo.gob.mx','Ramn_Campos@nearbpo.com','5534642223','9775 Amaya Cuesta','Valle de México Juanborough','Tlaxcala',19.4356576463445,-99.125283200194),\n",
      "\t\t('b6c3a6d0-4082-4353-926a-b903132b29f4',4,'Ramón Hermanos','http://gloria.gob.mx','Abril.Yez@yahoo.com','5526705438','41601 Lucia Manzana','Vallechester','Quintana Roo',19.4373485952783,-99.1278959822006),\n",
      "\t\t('32084e1d-41b9-4dc8-9b8a-83b5003302c1',2,'Sáenz - Romo','https://juan.gob.mx','Pablo_Alicea@yahoo.com','5523671866','65816 Sergio Parque','Becerraport','Sonora',19.439706773805,-99.1294421685118),\n",
      "\t\t('5b04ad6d-54c1-419c-b8cd-69090fee4e76',0,'Ramos S.L.','https://matias.gob.mx','Daniela_Castillo26@yahoo.com','5565166901','919 Salvador Colonia','Ángel Gabrielfurt','Chiapas',19.4328546478255,-99.1334435543724),\n",
      "\t\t('fdc12e77-af11-496a-846b-94068dcded56',2,'Aragón, Herrera and Cortez','https://camila.com.mx','Victoria14@hotmail.com','5359320036','18089 Ramírez Partida','Los Mochis Carlachester','Jalisco',19.4373096016916,-99.1316867379894),\n",
      "\t\t('39292d20-d201-4f0f-91a2-58e0f38fb2a2',0,'Carrillo - Ozuna','https://carlos.mx','Armando82@yahoo.com','5515577461','18190 Villagómez Ronda','Reynosa-Río Bravo Sofia','Colima',19.4426364027457,-99.1282194494786),\n",
      "\t\t('84572f5a-ea3d-4800-930c-5799a897b06c',1,'Khalid - Cortés','https://rosa-maria.mx','Alan.Escobar@corpfolder.com','5191038970','225 Cortés Masía','Ixtapaluca María de Jesúsmouth','Veracruz',19.4387030534986,-99.1266594672533),\n",
      "\t\t('3765054a-c706-4dcd-8424-aa8db4e5a4bd',4,'Casárez S.L.','https://julio-cesar.gob.mx','Isaac86@gmail.com','5567057696','808 Noriega Pasaje','La Paz Lucasbury','Jalisco',19.4354772960097,-99.1257455545481),\n",
      "\t\t('beef488c-7f32-4a35-8469-89f5c6277972',4,'Cordero, Chapa and Lomeli','https://erick.org','Elisa.Orozco1@gmail.com','5577596369','70658 Arredondo Extrarradio','Torreón Tadeochester','Veracruz',19.4412851137021,-99.1308549949321),\n",
      "\t\t('fe82f695-e437-4f42-9a69-d3a451c4a1d0',0,'Jaramillo - Narváez','https://raul.org','scar_Olivo@yahoo.com','5591730248','0112 Jaime Apartamento','Comitán de Dominguez Gregorio','Jalisco',19.4403016289445,-99.1262358490707),\n",
      "\t\t('b464014b-44ca-43e3-ba27-7477c8af2a53',0,'Carrero Hermanos','http://luz.info','Adn.valos@corpfolder.com','5562179920','7383 Hinojosa Huerta','Carlahaven','Hidalgo',19.4331364103761,-99.1239206144939),\n",
      "\t\t('8e5f2c9c-7a25-4cc0-a4fa-306c1a6e2d91',2,'Sedillo - Márquez','https://maria-teresa.org','DulceMara98@nearbpo.com','5452478262','4279 Tadeo Parcela','Lozanoshire','Chiapas',19.4345106458622,-99.133588671354),\n",
      "\t\t('83967700-00d9-4d8e-8b5d-dd72f4fba3e5',0,'Bueno, Crespo and Rodrígez','https://gonzalo.com','Toms.Sols@gmail.com','5578929369','6347 Reina Salida','Roybalfort','Zacatecas',19.4414123829808,-99.1285456725889),\n",
      "\t\t('650156a1-081b-4760-b438-0cee445be58e',3,'Reyna S.A.','https://soledad.gob.mx','XimenaGuadalupe.Alaniz@nearbpo.com','5518264968','895 Xenia Prolongación','Mazatlán Antoniamouth','Morelos',19.4391381510049,-99.1331929757194),\n",
      "\t\t('b2ca0188-62c0-4bba-b20c-62bc2d4ba192',4,'Rubio S.A.','http://victor.info','Hugo.Casrez2@hotmail.com','5471253103','119 Polanco Colegio','Vicentechester','Morelos',19.4364424457615,-99.1264581487192),\n",
      "\t\t('cb0e214f-b0e4-496a-8164-eac6105b2d35',0,'Valles, Tamez and Duarte','https://marta.com','Anita_Crdova@gmail.com','5574635517','16737 Garrido Rampa','Piedras Negras Martaport','Campeche',19.4336349655599,-99.133191981167),\n",
      "\t\t('b8b03b3d-4c06-4d91-b895-5d8dc85cbb2e',2,'Venegas S.L.','http://maria-guadalupe.com.mx','Dbora.Delgado66@gmail.com','5810547684','776 Burgos Plaza','Karantown','Quintana Roo',19.441435397794,-99.1330114246513),\n",
      "\t\t('9e71243d-3b46-45de-9f1f-019b1bfe6bac',1,'Romo, Olmos and Calderón','https://valeria.gob.mx','Emilio29@corpfolder.com','5510186181','67576 Cabán Chalet','Nicolásfurt','Jalisco',19.4409545181696,-99.1246169936148),\n",
      "\t\t('59cddeed-fbea-425f-8181-4bd1354b4dfe',1,'Arias S.L.','https://alejandro.com.mx','Axel.Zavala60@hotmail.com','5537651378','739 Ortiz Manzana','Abrahamfurt','Baja California Norte',19.433120066708,-99.1278492816332),\n",
      "\t\t('39be48e9-ec92-4ce5-8c90-768dfe20fc37',1,'Almaraz, Narváez and Urías','https://sebastian.com.mx','Lola32@nearbpo.com','5500100614','684 Rolón Apartamento','Karanmouth','Oaxaca',19.4403983376366,-99.1311737788635),\n",
      "\t\t('80537b08-6bae-444b-9564-98731e680f59',0,'Alaniz - Aponte','https://ariadna.com.mx','Mara26@corpfolder.com','5524823622','750 Alberto Escalinata','Tehuantepec-Salina Cruz Mauriciostad','Hidalgo',19.4328851082879,-99.1264391826167),\n",
      "\t\t('714ce590-f302-4453-895b-aa2992c2fa2c',1,'Armendáriz S.A.','https://eloisa.org','Regina35@yahoo.com','5542891822','821 Agustín Quinta','Piedras Negras Jesúsberg','Chiapas',19.4365512864902,-99.1330232850163),\n",
      "\t\t('ecbdb52a-4263-4bf1-87fb-8d9d809ea6aa',4,'Soliz Hermanos','http://roberto.gob.mx','Mercedes_Lugo@hotmail.com','5537295998','440 Ceballos Huerta','Oaxaca Sara','Aguascalientes',19.4350203104182,-99.1272196445501),\n",
      "\t\t('596081be-67c8-4c47-8c56-e2611cd4fa32',2,'Olivo, Santana and Elizondo','http://victor-manuel.gob.mx','Emmanuel_Rosas56@nearbpo.com','5545851405','4409 José Luis Rampa','Elizabethtown','Durango',19.4349571052152,-99.1273542526554),\n",
      "\t\t('8a5aefe2-8d0c-45b6-aab2-4da2769e10fa',4,'Vázquez, Espinal and Cervántez','http://mariana.gob.mx','Leticia.Hidalgo@nearbpo.com','5528679468','055 Julio Lugar','Zacatlan José Emilioside','Guanajuato',19.4384168098522,-99.1275969855933),\n",
      "\t\t('c9186202-30a4-48e7-b20b-c56d733fa76a',1,'Viera S.L.','http://ximena.gob.mx','Benjamn26@yahoo.com','5518272168','675 Kamal Chalet','Guanajuato Tadeoview','Estado de México',19.4422736535412,-99.1293520211967),\n",
      "\t\t('32b74fb4-1911-4db9-9646-f5ce4663ff1c',0,'Alicea - Castañeda','https://gustavo.org','Gerardo_Ozuna32@yahoo.com','5599747935','5702 Yamileth Terrenos','Coronadoview','Zacatecas',19.4394962074356,-99.1264430870515),\n",
      "\t\t('e5f21255-2dde-469e-bff8-4ea81d6fca27',3,'Medrano - Chavarría','http://julia.org','Kevin.Longoria68@nearbpo.com','5568061069','0302 Águilar Terrenos','Ocotlán Maricarmenstad','Tabasco',19.436839996763,-99.1278302262401),\n",
      "\t\t('3b84c87a-1cf9-40e8-81ff-19669240ce9b',2,'Naranjo, Galarza and Águilar','https://juan-pablo.com','Monserrat.Lozano77@corpfolder.com','5588438707','9390 Manuel Sector','Cuernavaca Aliciachester','Puebla',19.4353167526405,-99.1330388682153),\n",
      "\t\t('d3df42be-c6ff-43f6-8226-066140ab1b01',0,'Kanzaki e Hijos','http://ivanna.info','Eva_Guerra48@gmail.com','5487547323','8465 Jorge Luis Aldea','Saizside','Querétaro',19.434062387208,-99.1290043474481),\n",
      "\t\t('35b9efad-5168-419e-96bc-0535e5e5d2f9',1,'Villarreal - Gaytán','http://yolanda.info','Camila.Castellanos@corpfolder.com','5344687599','00698 Vallejo Ferrocarril','Arriagabury','Veracruz',19.4371300218306,-99.1285803138142),\n",
      "\t\t('9c6f0247-d128-4396-b80c-8f9648928ec0',4,'Salcedo Hermanos','https://marco-antonio.org','Victoria.Lucero@corpfolder.com','5573413844','7688 Puga Entrada','Gonzaloborough','Sinaloa',19.4406955632526,-99.1321159016228),\n",
      "\t\t('937518f0-a27f-491e-8788-ae9be0c65b31',2,'Gonzales, Valladares and Espinal','https://carlota.org','Dolores.Mercado64@corpfolder.com','5528685947','30474 Montez Mercado','José Luisstad','Sinaloa',19.4373070507688,-99.1280911153489),\n",
      "\t\t('534d5669-c0d4-4fe1-805e-7f836eb80e0f',1,'Zayas - Loya','https://javier.com','Teresa_Miramontes@nearbpo.com','5523743315','9119 Lorenzo Riera','Tulancingo Zoe','Tlaxcala',19.4409621455642,-99.1257052728607),\n",
      "\t\t('72bd30eb-192f-4f5a-bda2-bde3ae0844c2',1,'Huerta e Hijos','https://esteban.com.mx','Gloria_Robledo73@nearbpo.com','5509051989','93160 Xairo Belmonte Vía','Ciudad Obregón Emmanuel','Zacatecas',19.439100216425,-99.1246991701265),\n",
      "\t\t('5e238917-a1e1-408a-93d5-0c1bcb3361bc',0,'Carranza e Hijos','http://diana.org','Teresa_Domnquez39@corpfolder.com','5545204593','19099 Isabel Bloque','Tlaxcala-Apizaco Juan Manuel','Sinaloa',19.4397348136227,-99.1323492884756),\n",
      "\t\t('4e20f081-3095-4918-88f8-9591991b017f',4,'Vélez - Maldonado','http://jose-eduardo.org','Diego16@gmail.com','5516205131','5206 Juárez Salida','Manuelaburgh','Puebla',19.437768497719,-99.1286486584673),\n",
      "\t\t('74c9182c-9ec1-47cb-8271-50729ae7f95d',3,'Solís, Valles and Collado','http://mariana.com','Mario_Arreola51@gmail.com','5917337221','638 Sedillo Urbanización','Concepciónside','Quintana Roo',19.4411028197343,-99.1292894373791),\n",
      "\t\t('19e1837a-c9ad-49d8-8d6d-7cb1d2ee0700',0,'Águilar - Matos','https://eloisa.com.mx','LuisMiguel.Godnez83@yahoo.com','5616561563','319 Dolores Rampa','Coatzacoalcos Gonzalo','Oaxaca',19.4371495033689,-99.1265104266516),\n",
      "\t\t('6589e471-ae41-4e6b-83b8-9654d6fc71ea',1,'Peres, Meraz and Peña','http://esteban.com.mx','Luisngel.Gmez50@nearbpo.com','5581479974','134 Hidalgo Avenida','Ojo de agua Luis Ángelport','Campeche',19.4329329697467,-99.1312921006981),\n",
      "\t\t('58131b8b-1b93-495f-b7a1-0e2e1b93633d',2,'Meraz e Hijos','http://ximena.gob.mx','Isabela.Briones11@gmail.com','5495151485','10411 Pagan Salida','Ciudad de México Carlota','Aguascalientes',19.4386824334767,-99.1289113955692),\n",
      "\t\t('097f66dd-ca33-4f30-88e4-33193fcf8cda',1,'Briseño - Rodarte','https://fernando-javier.com','Mario84@yahoo.com','5256976186','780 Medina Terrenos','Madridland','Sonora',19.4338572792132,-99.1254273785957),\n",
      "\t\t('fcb9b113-49f5-4119-8016-c7357ac135fc',0,'Briones S.A.','http://maria-de-jesus.com','Emilio_Abeyta@yahoo.com','5539404967','375 Puente Puente','Tulancingo de Bravo Margarita','Zacatecas',19.4397584721567,-99.1261198391815),\n",
      "\t\t('0c91a515-2be1-4e8b-a4b0-be4f0ed1cce1',0,'Pedroza, Heredia and Lebrón','https://zoe.com','Teodoro_Zelaya@gmail.com','5932627483','69201 Dávila Edificio','Julioview','Baja California Norte',19.4338683815538,-99.1265759170152),\n",
      "\t\t('7ef3ed97-ebd6-4114-b2c1-af664534df79',1,'Jáquez, Jimínez and Yami','http://dulce-maria.org','Ivan_Delro32@gmail.com','5555522401','057 Meléndez Aldea','Zacatlan Claudia','Baja California Sur',19.4417827101103,-99.1295518319173),\n",
      "\t\t('3eb803d7-445a-43cd-9d08-2c3bd1c56148',1,'Esquivel S.L.','https://abigail.com','Norma40@corpfolder.com','5552972577','66678 Andrés Salida','Zacatlan Berta','Baja California Sur',19.4380931173689,-99.1334110923394),\n",
      "\t\t('24345eda-0451-4225-a6d0-17365f746afc',3,'Jaramillo - Flores','http://jose-antonio.com.mx','Patricia.Noriega75@yahoo.com','5520411112','2399 Esquibel Partida','Culiacán Cristianport','Chihuahua',19.4419967206293,-99.1243064222698),\n",
      "\t\t('1ce2e219-d0e5-4f88-85f9-c152485ec7ab',0,'Matos S.L.','https://ricardo.info','JosEmilio.Cotto69@corpfolder.com','5502208117','69982 Luis Gabino Terrenos','Cancún Estefaníahaven','Hidalgo',19.4420166275981,-99.1313996519641),\n",
      "\t\t('04e43341-64c0-4f66-822f-f2c0ef02e6bc',0,'Barela e Hijos','https://timoteo.gob.mx','Soledad.Brito7@yahoo.com','5500281343','8758 Alondra Romina Parcela','Guadalupeside','Tamaulipas',19.4416139456541,-99.1336614550933),\n",
      "\t\t('f73cfbce-60b8-4e2c-9ec7-de8dbb5e0a49',1,'Palacios - Montez','https://felipe.org','Rosalia.Estvez@nearbpo.com','5590666046','7676 Raquel Solar','Marco Antonioton','Michoacan',19.4410634069499,-99.1304676964673),\n",
      "\t\t('edb50561-46f9-4541-9c04-8de82401cc13',4,'Pedraza - Niño','http://jose-eduardo.gob.mx','Irene_Rojas95@nearbpo.com','5537531201','207 Chavarría Lado','Franciscohaven','Baja California Norte',19.4426838205224,-99.1250245928884),\n",
      "\n",
      "    COMMIT TRANSACTION;\n",
      "END TRY\n",
      "BEGIN CATCH\n",
      "    SELECT \n",
      "        @ErrorMessage = ERROR_MESSAGE(),\n",
      "        @ErrorSeverity = ERROR_SEVERITY(),\n",
      "        @ErrorState = ERROR_STATE();\n",
      "\n",
      "        SET @ErrorMessage = 'Error en el procedimiento almacenado Insertar Certificado: ' + @ErrorMessage +\n",
      "                    '. Error en la línea: ' + CAST(ERROR_LINE() AS NVARCHAR(10))\n",
      "    RAISERROR (@ErrorMessage, @ErrorSeverity, @ErrorState);\n",
      "    ROLLBACK TRANSACTION;\n",
      "END CATCH\n",
      "\n"
     ]
    }
   ],
   "source": [
    "print (\"\"\"\n",
    "DECLARE\n",
    "    @ErrorMessage NVARCHAR(4000),\n",
    "    @ErrorSeverity INT,\n",
    "    @ErrorState INT\n",
    "\n",
    "BEGIN TRY\n",
    "    BEGIN TRANSACTION\n",
    "       INSERT INTO Restaurant.Restaurants (Id, Rating, [Name], WebSite, Email, Phone, Street, City, [State], Lat, Lng)\n",
    "       VALUES \n",
    "\"\"\", end=\"\")\n",
    "for _,row in df.iterrows():\n",
    "    print(\"\\t\\t(\",end=\"\")\n",
    "    for columna in df.columns:\n",
    "        if pd.api.types.is_string_dtype(df[columna]):\n",
    "            print (f\"'{row[columna]}',\",end=\"\")\n",
    "        elif columna == \"lng\": # por ser la ultima columna\n",
    "            print (f\"{row[columna]}),\")\n",
    "        else:\n",
    "             print (f\"{row[columna]},\",end=\"\")\n",
    "print(\"\"\"\n",
    "    COMMIT TRANSACTION;\n",
    "END TRY\n",
    "BEGIN CATCH\n",
    "    SELECT \n",
    "        @ErrorMessage = ERROR_MESSAGE(),\n",
    "        @ErrorSeverity = ERROR_SEVERITY(),\n",
    "        @ErrorState = ERROR_STATE();\n",
    "\n",
    "        SET @ErrorMessage = 'Error en el procedimiento almacenado Insertar Certificado: ' + @ErrorMessage +\n",
    "                    '. Error en la línea: ' + CAST(ERROR_LINE() AS NVARCHAR(10))\n",
    "    RAISERROR (@ErrorMessage, @ErrorSeverity, @ErrorState);\n",
    "    ROLLBACK TRANSACTION;\n",
    "END CATCH\n",
    "\"\"\")"
   ]
  },
  {
   "attachments": {},
   "cell_type": "markdown",
   "metadata": {},
   "source": [
    "Esto generara un error, pero se soluciona eliminando la ultima coma de la ultima fila"
   ]
  }
 ],
 "metadata": {
  "kernelspec": {
   "display_name": "DataScience",
   "language": "python",
   "name": "python3"
  },
  "language_info": {
   "codemirror_mode": {
    "name": "ipython",
    "version": 3
   },
   "file_extension": ".py",
   "mimetype": "text/x-python",
   "name": "python",
   "nbconvert_exporter": "python",
   "pygments_lexer": "ipython3",
   "version": "3.11.4"
  },
  "orig_nbformat": 4
 },
 "nbformat": 4,
 "nbformat_minor": 2
}
